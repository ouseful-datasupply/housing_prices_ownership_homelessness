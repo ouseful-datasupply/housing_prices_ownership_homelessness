{
 "cells": [
  {
   "cell_type": "markdown",
   "id": "b9df3ef3",
   "metadata": {},
   "source": [
    "# Doodles\n",
    "\n",
    "Exploring the Ordnance Survey *OpenNames* dataset."
   ]
  },
  {
   "cell_type": "code",
   "execution_count": null,
   "id": "329c5ff5",
   "metadata": {},
   "outputs": [],
   "source": [
    "# Data downloaded from:\n",
    "# https://osdatahub.os.uk/downloads/open/OpenNames\n",
    "# Your use of OS OpenData is subject to the terms at http://os.uk/opendata/licence.\n",
    "#\n",
    "# The copyright acknowledgements to use for the attribution statement are:\n",
    "#\n",
    "# Contains OS data © Crown Copyright and database rights 2025.\n",
    "#\n",
    "# Contains Royal Mail data © Royal Mail copyright and database right 2025.\n",
    "#\n",
    "# Contains National Statistics data © Crown copyright and database right 2025\n",
    "\n",
    "# Quick extract:\n",
    "# grep \"Isle of Wight\" opname_csv_gb/Data/*.csv > IW_os_placenames.csv\n",
    "# Includes false positives\n",
    "\n",
    "# Better:\n",
    "# grep \"http://data.ordnancesurvey.co.uk/id/7000000000025469\" opname_csv_gb/Data/*.csv > IW_os_placenames.csv"
   ]
  },
  {
   "cell_type": "code",
   "execution_count": null,
   "id": "986190dc",
   "metadata": {},
   "outputs": [
    {
     "data": {
      "application/vnd.microsoft.datawrangler.viewer.v0+json": {
       "columns": [
        {
         "name": "index",
         "rawType": "int64",
         "type": "integer"
        },
        {
         "name": "ID",
         "rawType": "object",
         "type": "string"
        },
        {
         "name": "NAMES_URI",
         "rawType": "object",
         "type": "string"
        },
        {
         "name": "NAME1",
         "rawType": "object",
         "type": "string"
        },
        {
         "name": "NAME1_LANG",
         "rawType": "float64",
         "type": "float"
        },
        {
         "name": "NAME2",
         "rawType": "object",
         "type": "unknown"
        },
        {
         "name": "NAME2_LANG",
         "rawType": "float64",
         "type": "float"
        },
        {
         "name": "TYPE",
         "rawType": "object",
         "type": "string"
        },
        {
         "name": "LOCAL_TYPE",
         "rawType": "object",
         "type": "string"
        },
        {
         "name": "GEOMETRY_X",
         "rawType": "int64",
         "type": "integer"
        },
        {
         "name": "GEOMETRY_Y",
         "rawType": "int64",
         "type": "integer"
        },
        {
         "name": "MOST_DETAIL_VIEW_RES",
         "rawType": "int64",
         "type": "integer"
        },
        {
         "name": "LEAST_DETAIL_VIEW_RES",
         "rawType": "int64",
         "type": "integer"
        },
        {
         "name": "MBR_XMIN",
         "rawType": "float64",
         "type": "float"
        },
        {
         "name": "MBR_YMIN",
         "rawType": "float64",
         "type": "float"
        },
        {
         "name": "MBR_XMAX",
         "rawType": "float64",
         "type": "float"
        },
        {
         "name": "MBR_YMAX",
         "rawType": "float64",
         "type": "float"
        },
        {
         "name": "POSTCODE_DISTRICT",
         "rawType": "object",
         "type": "string"
        },
        {
         "name": "POSTCODE_DISTRICT_URI",
         "rawType": "object",
         "type": "string"
        },
        {
         "name": "POPULATED_PLACE",
         "rawType": "object",
         "type": "unknown"
        },
        {
         "name": "POPULATED_PLACE_URI",
         "rawType": "object",
         "type": "unknown"
        },
        {
         "name": "POPULATED_PLACE_TYPE",
         "rawType": "object",
         "type": "unknown"
        },
        {
         "name": "DISTRICT_BOROUGH",
         "rawType": "object",
         "type": "unknown"
        },
        {
         "name": "DISTRICT_BOROUGH_URI",
         "rawType": "object",
         "type": "unknown"
        },
        {
         "name": "DISTRICT_BOROUGH_TYPE",
         "rawType": "object",
         "type": "unknown"
        },
        {
         "name": "COUNTY_UNITARY",
         "rawType": "object",
         "type": "string"
        },
        {
         "name": "COUNTY_UNITARY_URI",
         "rawType": "object",
         "type": "string"
        },
        {
         "name": "COUNTY_UNITARY_TYPE",
         "rawType": "object",
         "type": "string"
        },
        {
         "name": "REGION",
         "rawType": "object",
         "type": "string"
        },
        {
         "name": "REGION_URI",
         "rawType": "object",
         "type": "string"
        },
        {
         "name": "COUNTRY",
         "rawType": "object",
         "type": "string"
        },
        {
         "name": "COUNTRY_URI",
         "rawType": "object",
         "type": "string"
        },
        {
         "name": "RELATED_SPATIAL_OBJECT",
         "rawType": "object",
         "type": "unknown"
        },
        {
         "name": "SAME_AS_DBPEDIA",
         "rawType": "object",
         "type": "unknown"
        },
        {
         "name": "SAME_AS_GEONAMES",
         "rawType": "object",
         "type": "unknown"
        }
       ],
       "ref": "21c476a9-6522-49a1-bf30-425143fa13c6",
       "rows": [
        [
         "0",
         "SU22.csv:osgb4000000074770417",
         "http://data.ordnancesurvey.co.uk/id/4000000074770417",
         "Isle of Wight Hill",
         null,
         null,
         null,
         "landform",
         "Hill Or Mountain",
         "424844",
         "137337",
         "1000",
         "300000",
         "424594.0",
         "137087.0",
         "425094.0",
         "137587.0",
         "SP5",
         "http://data.ordnancesurvey.co.uk/id/postcodedistrict/SP5",
         null,
         null,
         null,
         "Test Valley",
         "http://data.ordnancesurvey.co.uk/id/7000000000043511",
         "http://data.ordnancesurvey.co.uk/ontology/admingeo/District",
         "Hampshire",
         "http://data.ordnancesurvey.co.uk/id/7000000000017765",
         "http://data.ordnancesurvey.co.uk/ontology/admingeo/County",
         "South East",
         "http://data.ordnancesurvey.co.uk/id/7000000000041421",
         "England",
         "http://data.ordnancesurvey.co.uk/id/country/england",
         null,
         null,
         null
        ],
        [
         "1",
         "SU86.csv:osgb4000000074808919",
         "http://data.ordnancesurvey.co.uk/id/4000000074808919",
         "Isle of Wight Pond",
         null,
         null,
         null,
         "hydrography",
         "Inland Water",
         "495262",
         "172358",
         "2000",
         "500000",
         "495005.0",
         "172108.0",
         "495505.0",
         "172608.0",
         "SL4",
         "http://data.ordnancesurvey.co.uk/id/postcodedistrict/SL4",
         null,
         null,
         null,
         null,
         null,
         null,
         "Windsor and Maidenhead",
         "http://data.ordnancesurvey.co.uk/id/7000000000038892",
         "http://data.ordnancesurvey.co.uk/ontology/admingeo/UnitaryAuthority",
         "South East",
         "http://data.ordnancesurvey.co.uk/id/7000000000041421",
         "England",
         "http://data.ordnancesurvey.co.uk/id/country/england",
         null,
         null,
         null
        ],
        [
         "2",
         "SZ06.csv:osgb4000000026226540",
         "http://data.ordnancesurvey.co.uk/id/4000000026226540",
         "Isle of Wight Road",
         null,
         null,
         null,
         "transportNetwork",
         "Named Road",
         "403311",
         "77620",
         "4000",
         "20000",
         "403305.0",
         "77319.0",
         "403363.0",
         "77912.0",
         "BH19",
         "http://data.ordnancesurvey.co.uk/id/postcodedistrict/BH19",
         "Swanage",
         "http://data.ordnancesurvey.co.uk/id/4000000074553624",
         "http://www.ordnancesurvey.co.uk/xml/codelists/localtype.xml#town",
         null,
         null,
         null,
         "Dorset",
         "http://data.ordnancesurvey.co.uk/id/7000000000175988",
         "http://data.ordnancesurvey.co.uk/ontology/admingeo/UnitaryAuthority",
         "South West",
         "http://data.ordnancesurvey.co.uk/id/7000000000041427",
         "England",
         "http://data.ordnancesurvey.co.uk/id/country/england",
         null,
         null,
         null
        ],
        [
         "3",
         "SZ28.csv:osgb4000000074551734",
         "http://data.ordnancesurvey.co.uk/id/4000000074551734",
         "Bouldnor",
         null,
         null,
         null,
         "populatedPlace",
         "Village",
         "436404",
         "89600",
         "8000",
         "250000",
         "436236.0",
         "89506.0",
         "437500.0",
         "90059.0",
         "PO41",
         "http://data.ordnancesurvey.co.uk/id/postcodedistrict/PO41",
         null,
         null,
         null,
         null,
         null,
         null,
         "Isle of Wight",
         "http://data.ordnancesurvey.co.uk/id/7000000000025469",
         "http://data.ordnancesurvey.co.uk/ontology/admingeo/UnitaryAuthority",
         "South East",
         "http://data.ordnancesurvey.co.uk/id/7000000000041421",
         "England",
         "http://data.ordnancesurvey.co.uk/id/country/england",
         null,
         "http://dbpedia.org/resource/Bouldnor",
         null
        ],
        [
         "4",
         "SZ28.csv:osgb4000000074551705",
         "http://data.ordnancesurvey.co.uk/id/4000000074551705",
         "Freshwater",
         null,
         null,
         null,
         "populatedPlace",
         "Village",
         "433576",
         "87130",
         "21000",
         "250000",
         "432990.0",
         "85484.0",
         "435219.0",
         "88640.0",
         "PO40",
         "http://data.ordnancesurvey.co.uk/id/postcodedistrict/PO40",
         null,
         null,
         null,
         null,
         null,
         null,
         "Isle of Wight",
         "http://data.ordnancesurvey.co.uk/id/7000000000025469",
         "http://data.ordnancesurvey.co.uk/ontology/admingeo/UnitaryAuthority",
         "South East",
         "http://data.ordnancesurvey.co.uk/id/7000000000041421",
         "England",
         "http://data.ordnancesurvey.co.uk/id/country/england",
         null,
         "http://dbpedia.org/resource/Freshwater,_Isle_of_Wight",
         "http://sws.geonames.org/2649069"
        ]
       ],
       "shape": {
        "columns": 34,
        "rows": 5
       }
      },
      "text/html": [
       "<div>\n",
       "<style scoped>\n",
       "    .dataframe tbody tr th:only-of-type {\n",
       "        vertical-align: middle;\n",
       "    }\n",
       "\n",
       "    .dataframe tbody tr th {\n",
       "        vertical-align: top;\n",
       "    }\n",
       "\n",
       "    .dataframe thead th {\n",
       "        text-align: right;\n",
       "    }\n",
       "</style>\n",
       "<table border=\"1\" class=\"dataframe\">\n",
       "  <thead>\n",
       "    <tr style=\"text-align: right;\">\n",
       "      <th></th>\n",
       "      <th>ID</th>\n",
       "      <th>NAMES_URI</th>\n",
       "      <th>NAME1</th>\n",
       "      <th>NAME1_LANG</th>\n",
       "      <th>NAME2</th>\n",
       "      <th>NAME2_LANG</th>\n",
       "      <th>TYPE</th>\n",
       "      <th>LOCAL_TYPE</th>\n",
       "      <th>GEOMETRY_X</th>\n",
       "      <th>GEOMETRY_Y</th>\n",
       "      <th>...</th>\n",
       "      <th>COUNTY_UNITARY</th>\n",
       "      <th>COUNTY_UNITARY_URI</th>\n",
       "      <th>COUNTY_UNITARY_TYPE</th>\n",
       "      <th>REGION</th>\n",
       "      <th>REGION_URI</th>\n",
       "      <th>COUNTRY</th>\n",
       "      <th>COUNTRY_URI</th>\n",
       "      <th>RELATED_SPATIAL_OBJECT</th>\n",
       "      <th>SAME_AS_DBPEDIA</th>\n",
       "      <th>SAME_AS_GEONAMES</th>\n",
       "    </tr>\n",
       "  </thead>\n",
       "  <tbody>\n",
       "    <tr>\n",
       "      <th>0</th>\n",
       "      <td>SU22.csv:osgb4000000074770417</td>\n",
       "      <td>http://data.ordnancesurvey.co.uk/id/4000000074...</td>\n",
       "      <td>Isle of Wight Hill</td>\n",
       "      <td>NaN</td>\n",
       "      <td>NaN</td>\n",
       "      <td>NaN</td>\n",
       "      <td>landform</td>\n",
       "      <td>Hill Or Mountain</td>\n",
       "      <td>424844</td>\n",
       "      <td>137337</td>\n",
       "      <td>...</td>\n",
       "      <td>Hampshire</td>\n",
       "      <td>http://data.ordnancesurvey.co.uk/id/7000000000...</td>\n",
       "      <td>http://data.ordnancesurvey.co.uk/ontology/admi...</td>\n",
       "      <td>South East</td>\n",
       "      <td>http://data.ordnancesurvey.co.uk/id/7000000000...</td>\n",
       "      <td>England</td>\n",
       "      <td>http://data.ordnancesurvey.co.uk/id/country/en...</td>\n",
       "      <td>NaN</td>\n",
       "      <td>NaN</td>\n",
       "      <td>NaN</td>\n",
       "    </tr>\n",
       "    <tr>\n",
       "      <th>1</th>\n",
       "      <td>SU86.csv:osgb4000000074808919</td>\n",
       "      <td>http://data.ordnancesurvey.co.uk/id/4000000074...</td>\n",
       "      <td>Isle of Wight Pond</td>\n",
       "      <td>NaN</td>\n",
       "      <td>NaN</td>\n",
       "      <td>NaN</td>\n",
       "      <td>hydrography</td>\n",
       "      <td>Inland Water</td>\n",
       "      <td>495262</td>\n",
       "      <td>172358</td>\n",
       "      <td>...</td>\n",
       "      <td>Windsor and Maidenhead</td>\n",
       "      <td>http://data.ordnancesurvey.co.uk/id/7000000000...</td>\n",
       "      <td>http://data.ordnancesurvey.co.uk/ontology/admi...</td>\n",
       "      <td>South East</td>\n",
       "      <td>http://data.ordnancesurvey.co.uk/id/7000000000...</td>\n",
       "      <td>England</td>\n",
       "      <td>http://data.ordnancesurvey.co.uk/id/country/en...</td>\n",
       "      <td>NaN</td>\n",
       "      <td>NaN</td>\n",
       "      <td>NaN</td>\n",
       "    </tr>\n",
       "    <tr>\n",
       "      <th>2</th>\n",
       "      <td>SZ06.csv:osgb4000000026226540</td>\n",
       "      <td>http://data.ordnancesurvey.co.uk/id/4000000026...</td>\n",
       "      <td>Isle of Wight Road</td>\n",
       "      <td>NaN</td>\n",
       "      <td>NaN</td>\n",
       "      <td>NaN</td>\n",
       "      <td>transportNetwork</td>\n",
       "      <td>Named Road</td>\n",
       "      <td>403311</td>\n",
       "      <td>77620</td>\n",
       "      <td>...</td>\n",
       "      <td>Dorset</td>\n",
       "      <td>http://data.ordnancesurvey.co.uk/id/7000000000...</td>\n",
       "      <td>http://data.ordnancesurvey.co.uk/ontology/admi...</td>\n",
       "      <td>South West</td>\n",
       "      <td>http://data.ordnancesurvey.co.uk/id/7000000000...</td>\n",
       "      <td>England</td>\n",
       "      <td>http://data.ordnancesurvey.co.uk/id/country/en...</td>\n",
       "      <td>NaN</td>\n",
       "      <td>NaN</td>\n",
       "      <td>NaN</td>\n",
       "    </tr>\n",
       "    <tr>\n",
       "      <th>3</th>\n",
       "      <td>SZ28.csv:osgb4000000074551734</td>\n",
       "      <td>http://data.ordnancesurvey.co.uk/id/4000000074...</td>\n",
       "      <td>Bouldnor</td>\n",
       "      <td>NaN</td>\n",
       "      <td>NaN</td>\n",
       "      <td>NaN</td>\n",
       "      <td>populatedPlace</td>\n",
       "      <td>Village</td>\n",
       "      <td>436404</td>\n",
       "      <td>89600</td>\n",
       "      <td>...</td>\n",
       "      <td>Isle of Wight</td>\n",
       "      <td>http://data.ordnancesurvey.co.uk/id/7000000000...</td>\n",
       "      <td>http://data.ordnancesurvey.co.uk/ontology/admi...</td>\n",
       "      <td>South East</td>\n",
       "      <td>http://data.ordnancesurvey.co.uk/id/7000000000...</td>\n",
       "      <td>England</td>\n",
       "      <td>http://data.ordnancesurvey.co.uk/id/country/en...</td>\n",
       "      <td>NaN</td>\n",
       "      <td>http://dbpedia.org/resource/Bouldnor</td>\n",
       "      <td>NaN</td>\n",
       "    </tr>\n",
       "    <tr>\n",
       "      <th>4</th>\n",
       "      <td>SZ28.csv:osgb4000000074551705</td>\n",
       "      <td>http://data.ordnancesurvey.co.uk/id/4000000074...</td>\n",
       "      <td>Freshwater</td>\n",
       "      <td>NaN</td>\n",
       "      <td>NaN</td>\n",
       "      <td>NaN</td>\n",
       "      <td>populatedPlace</td>\n",
       "      <td>Village</td>\n",
       "      <td>433576</td>\n",
       "      <td>87130</td>\n",
       "      <td>...</td>\n",
       "      <td>Isle of Wight</td>\n",
       "      <td>http://data.ordnancesurvey.co.uk/id/7000000000...</td>\n",
       "      <td>http://data.ordnancesurvey.co.uk/ontology/admi...</td>\n",
       "      <td>South East</td>\n",
       "      <td>http://data.ordnancesurvey.co.uk/id/7000000000...</td>\n",
       "      <td>England</td>\n",
       "      <td>http://data.ordnancesurvey.co.uk/id/country/en...</td>\n",
       "      <td>NaN</td>\n",
       "      <td>http://dbpedia.org/resource/Freshwater,_Isle_o...</td>\n",
       "      <td>http://sws.geonames.org/2649069</td>\n",
       "    </tr>\n",
       "  </tbody>\n",
       "</table>\n",
       "<p>5 rows × 34 columns</p>\n",
       "</div>"
      ],
      "text/plain": [
       "                              ID  \\\n",
       "0  SU22.csv:osgb4000000074770417   \n",
       "1  SU86.csv:osgb4000000074808919   \n",
       "2  SZ06.csv:osgb4000000026226540   \n",
       "3  SZ28.csv:osgb4000000074551734   \n",
       "4  SZ28.csv:osgb4000000074551705   \n",
       "\n",
       "                                           NAMES_URI               NAME1  \\\n",
       "0  http://data.ordnancesurvey.co.uk/id/4000000074...  Isle of Wight Hill   \n",
       "1  http://data.ordnancesurvey.co.uk/id/4000000074...  Isle of Wight Pond   \n",
       "2  http://data.ordnancesurvey.co.uk/id/4000000026...  Isle of Wight Road   \n",
       "3  http://data.ordnancesurvey.co.uk/id/4000000074...            Bouldnor   \n",
       "4  http://data.ordnancesurvey.co.uk/id/4000000074...          Freshwater   \n",
       "\n",
       "   NAME1_LANG NAME2  NAME2_LANG              TYPE        LOCAL_TYPE  \\\n",
       "0         NaN   NaN         NaN          landform  Hill Or Mountain   \n",
       "1         NaN   NaN         NaN       hydrography      Inland Water   \n",
       "2         NaN   NaN         NaN  transportNetwork        Named Road   \n",
       "3         NaN   NaN         NaN    populatedPlace           Village   \n",
       "4         NaN   NaN         NaN    populatedPlace           Village   \n",
       "\n",
       "   GEOMETRY_X  GEOMETRY_Y  ...          COUNTY_UNITARY  \\\n",
       "0      424844      137337  ...               Hampshire   \n",
       "1      495262      172358  ...  Windsor and Maidenhead   \n",
       "2      403311       77620  ...                  Dorset   \n",
       "3      436404       89600  ...           Isle of Wight   \n",
       "4      433576       87130  ...           Isle of Wight   \n",
       "\n",
       "                                  COUNTY_UNITARY_URI  \\\n",
       "0  http://data.ordnancesurvey.co.uk/id/7000000000...   \n",
       "1  http://data.ordnancesurvey.co.uk/id/7000000000...   \n",
       "2  http://data.ordnancesurvey.co.uk/id/7000000000...   \n",
       "3  http://data.ordnancesurvey.co.uk/id/7000000000...   \n",
       "4  http://data.ordnancesurvey.co.uk/id/7000000000...   \n",
       "\n",
       "                                 COUNTY_UNITARY_TYPE      REGION  \\\n",
       "0  http://data.ordnancesurvey.co.uk/ontology/admi...  South East   \n",
       "1  http://data.ordnancesurvey.co.uk/ontology/admi...  South East   \n",
       "2  http://data.ordnancesurvey.co.uk/ontology/admi...  South West   \n",
       "3  http://data.ordnancesurvey.co.uk/ontology/admi...  South East   \n",
       "4  http://data.ordnancesurvey.co.uk/ontology/admi...  South East   \n",
       "\n",
       "                                          REGION_URI  COUNTRY  \\\n",
       "0  http://data.ordnancesurvey.co.uk/id/7000000000...  England   \n",
       "1  http://data.ordnancesurvey.co.uk/id/7000000000...  England   \n",
       "2  http://data.ordnancesurvey.co.uk/id/7000000000...  England   \n",
       "3  http://data.ordnancesurvey.co.uk/id/7000000000...  England   \n",
       "4  http://data.ordnancesurvey.co.uk/id/7000000000...  England   \n",
       "\n",
       "                                         COUNTRY_URI RELATED_SPATIAL_OBJECT  \\\n",
       "0  http://data.ordnancesurvey.co.uk/id/country/en...                    NaN   \n",
       "1  http://data.ordnancesurvey.co.uk/id/country/en...                    NaN   \n",
       "2  http://data.ordnancesurvey.co.uk/id/country/en...                    NaN   \n",
       "3  http://data.ordnancesurvey.co.uk/id/country/en...                    NaN   \n",
       "4  http://data.ordnancesurvey.co.uk/id/country/en...                    NaN   \n",
       "\n",
       "                                     SAME_AS_DBPEDIA  \\\n",
       "0                                                NaN   \n",
       "1                                                NaN   \n",
       "2                                                NaN   \n",
       "3               http://dbpedia.org/resource/Bouldnor   \n",
       "4  http://dbpedia.org/resource/Freshwater,_Isle_o...   \n",
       "\n",
       "                  SAME_AS_GEONAMES  \n",
       "0                              NaN  \n",
       "1                              NaN  \n",
       "2                              NaN  \n",
       "3                              NaN  \n",
       "4  http://sws.geonames.org/2649069  \n",
       "\n",
       "[5 rows x 34 columns]"
      ]
     },
     "execution_count": 2,
     "metadata": {},
     "output_type": "execute_result"
    }
   ],
   "source": [
    "# Load in data\n",
    "import pandas as pd\n",
    "\n",
    "df = pd.read_csv(\"IW_os_placenames.csv\")\n",
    "\n",
    "# Preview\n",
    "df.head()"
   ]
  },
  {
   "cell_type": "code",
   "execution_count": null,
   "id": "2fcb84fe",
   "metadata": {},
   "outputs": [],
   "source": [
    "# Cleaning step - filter to IW locations\n",
    "#\n",
    "# # Use: COUNTY_UNITARY_URI\n",
    "# http://data.ordnancesurvey.co.uk/id/7000000000025469\n",
    "df = df[\n",
    "    df[\"COUNTY_UNITARY_URI\"] == \"http://data.ordnancesurvey.co.uk/id/7000000000025469\"\n",
    "]"
   ]
  },
  {
   "cell_type": "code",
   "execution_count": 4,
   "id": "2a22ad29",
   "metadata": {},
   "outputs": [
    {
     "data": {
      "text/plain": [
       "(array(['populatedPlace', 'other', 'transportNetwork', 'landcover',\n",
       "        'landform', 'hydrography'], dtype=object),\n",
       " array(['Village', 'Suburban Area', 'Hamlet', 'Town', 'Postcode',\n",
       "        'Named Road', 'Section Of Named Road', 'Numbered Road',\n",
       "        'Woodland Or Forest', 'Hill Or Mountain', 'Other Landcover',\n",
       "        'Valley', 'Coastal Headland', 'Other Coastal Landform', 'Wetland',\n",
       "        'Island', 'Cliff Or Slope', 'Bay', 'Harbour',\n",
       "        'Medical Care Accommodation', 'Electricity Production',\n",
       "        'Primary Education', 'Vehicular Ferry Terminal',\n",
       "        'Section Of Numbered Road', 'Spot Height', 'Tidal Water',\n",
       "        'Secondary Education', 'Special Needs Education',\n",
       "        'Other Settlement', 'Inland Water', 'Other Landform', 'Channel',\n",
       "        'Beach', 'Estuary', 'Sea', 'Railway', 'Passenger Ferry Terminal',\n",
       "        'Non State Primary Education,Non State Secondary Education',\n",
       "        'Railway Station', 'Bus Station', 'Airport', 'Further Education',\n",
       "        'Hospice', 'Further Education,Secondary Education', 'Hospital',\n",
       "        'Airfield'], dtype=object))"
      ]
     },
     "execution_count": 4,
     "metadata": {},
     "output_type": "execute_result"
    }
   ],
   "source": [
    "# What types of record are there?\n",
    "df[\"TYPE\"].unique(), df[\"LOCAL_TYPE\"].unique()"
   ]
  },
  {
   "cell_type": "code",
   "execution_count": null,
   "id": "86b86678",
   "metadata": {},
   "outputs": [
    {
     "data": {
      "application/vnd.microsoft.datawrangler.viewer.v0+json": {
       "columns": [
        {
         "name": "('TYPE', 'LOCAL_TYPE')",
         "rawType": "object",
         "type": "unknown"
        },
        {
         "name": "count",
         "rawType": "int64",
         "type": "integer"
        }
       ],
       "ref": "7391f09e-c710-4db8-ad3b-34770e709823",
       "rows": [
        [
         "('hydrography', 'Bay')",
         "31"
        ],
        [
         "('hydrography', 'Inland Water')",
         "8"
        ],
        [
         "('hydrography', 'Tidal Water')",
         "8"
        ],
        [
         "('hydrography', 'Estuary')",
         "4"
        ],
        [
         "('hydrography', 'Channel')",
         "3"
        ],
        [
         "('hydrography', 'Sea')",
         "2"
        ],
        [
         "('landcover', 'Woodland Or Forest')",
         "340"
        ],
        [
         "('landcover', 'Other Landcover')",
         "69"
        ],
        [
         "('landcover', 'Wetland')",
         "20"
        ],
        [
         "('landcover', 'Beach')",
         "14"
        ],
        [
         "('landform', 'Other Coastal Landform')",
         "45"
        ],
        [
         "('landform', 'Hill Or Mountain')",
         "36"
        ],
        [
         "('landform', 'Valley')",
         "26"
        ],
        [
         "('landform', 'Cliff Or Slope')",
         "22"
        ],
        [
         "('landform', 'Coastal Headland')",
         "6"
        ],
        [
         "('landform', 'Spot Height')",
         "5"
        ],
        [
         "('landform', 'Island')",
         "3"
        ],
        [
         "('landform', 'Other Landform')",
         "2"
        ],
        [
         "('other', 'Postcode')",
         "5130"
        ],
        [
         "('other', 'Primary Education')",
         "40"
        ],
        [
         "('other', 'Electricity Production')",
         "13"
        ],
        [
         "('other', 'Medical Care Accommodation')",
         "11"
        ],
        [
         "('other', 'Secondary Education')",
         "7"
        ],
        [
         "('other', 'Further Education')",
         "4"
        ],
        [
         "('other', 'Special Needs Education')",
         "4"
        ],
        [
         "('other', 'Non State Primary Education,Non State Secondary Education')",
         "2"
        ],
        [
         "('other', 'Further Education,Secondary Education')",
         "1"
        ],
        [
         "('other', 'Hospice')",
         "1"
        ],
        [
         "('other', 'Hospital')",
         "1"
        ],
        [
         "('populatedPlace', 'Hamlet')",
         "52"
        ],
        [
         "('populatedPlace', 'Suburban Area')",
         "51"
        ],
        [
         "('populatedPlace', 'Village')",
         "51"
        ],
        [
         "('populatedPlace', 'Town')",
         "9"
        ],
        [
         "('populatedPlace', 'Other Settlement')",
         "5"
        ],
        [
         "('transportNetwork', 'Named Road')",
         "2351"
        ],
        [
         "('transportNetwork', 'Section Of Named Road')",
         "414"
        ],
        [
         "('transportNetwork', 'Numbered Road')",
         "21"
        ],
        [
         "('transportNetwork', 'Section Of Numbered Road')",
         "19"
        ],
        [
         "('transportNetwork', 'Railway Station')",
         "10"
        ],
        [
         "('transportNetwork', 'Vehicular Ferry Terminal')",
         "5"
        ],
        [
         "('transportNetwork', 'Harbour')",
         "4"
        ],
        [
         "('transportNetwork', 'Passenger Ferry Terminal')",
         "3"
        ],
        [
         "('transportNetwork', 'Bus Station')",
         "2"
        ],
        [
         "('transportNetwork', 'Airfield')",
         "1"
        ],
        [
         "('transportNetwork', 'Airport')",
         "1"
        ],
        [
         "('transportNetwork', 'Railway')",
         "1"
        ]
       ],
       "shape": {
        "columns": 1,
        "rows": 46
       }
      },
      "text/plain": [
       "TYPE              LOCAL_TYPE                                               \n",
       "hydrography       Bay                                                            31\n",
       "                  Inland Water                                                    8\n",
       "                  Tidal Water                                                     8\n",
       "                  Estuary                                                         4\n",
       "                  Channel                                                         3\n",
       "                  Sea                                                             2\n",
       "landcover         Woodland Or Forest                                            340\n",
       "                  Other Landcover                                                69\n",
       "                  Wetland                                                        20\n",
       "                  Beach                                                          14\n",
       "landform          Other Coastal Landform                                         45\n",
       "                  Hill Or Mountain                                               36\n",
       "                  Valley                                                         26\n",
       "                  Cliff Or Slope                                                 22\n",
       "                  Coastal Headland                                                6\n",
       "                  Spot Height                                                     5\n",
       "                  Island                                                          3\n",
       "                  Other Landform                                                  2\n",
       "other             Postcode                                                     5130\n",
       "                  Primary Education                                              40\n",
       "                  Electricity Production                                         13\n",
       "                  Medical Care Accommodation                                     11\n",
       "                  Secondary Education                                             7\n",
       "                  Further Education                                               4\n",
       "                  Special Needs Education                                         4\n",
       "                  Non State Primary Education,Non State Secondary Education       2\n",
       "                  Further Education,Secondary Education                           1\n",
       "                  Hospice                                                         1\n",
       "                  Hospital                                                        1\n",
       "populatedPlace    Hamlet                                                         52\n",
       "                  Suburban Area                                                  51\n",
       "                  Village                                                        51\n",
       "                  Town                                                            9\n",
       "                  Other Settlement                                                5\n",
       "transportNetwork  Named Road                                                   2351\n",
       "                  Section Of Named Road                                         414\n",
       "                  Numbered Road                                                  21\n",
       "                  Section Of Numbered Road                                       19\n",
       "                  Railway Station                                                10\n",
       "                  Vehicular Ferry Terminal                                        5\n",
       "                  Harbour                                                         4\n",
       "                  Passenger Ferry Terminal                                        3\n",
       "                  Bus Station                                                     2\n",
       "                  Airfield                                                        1\n",
       "                  Airport                                                         1\n",
       "                  Railway                                                         1\n",
       "Name: count, dtype: int64"
      ]
     },
     "execution_count": 5,
     "metadata": {},
     "output_type": "execute_result"
    }
   ],
   "source": [
    "df.groupby(\"TYPE\")[\"LOCAL_TYPE\"].value_counts()"
   ]
  },
  {
   "cell_type": "code",
   "execution_count": null,
   "id": "75028824",
   "metadata": {},
   "outputs": [
    {
     "data": {
      "text/plain": [
       "(2033,\n",
       " ['Abbey Lane', 'Abbey Walk', 'Abbots Close', 'Abingdon Road', 'Acacia Close'])"
      ]
     },
     "execution_count": 12,
     "metadata": {},
     "output_type": "execute_result"
    }
   ],
   "source": [
    "road_names = (\n",
    "    df[df[\"LOCAL_TYPE\"].isin([\"Named Road\", \"Section Of Named Road\"])][\"NAME1\"]\n",
    "    .unique()\n",
    "    .tolist()\n",
    ")\n",
    "road_names.sort()\n",
    "len(road_names), road_names[:5]"
   ]
  },
  {
   "cell_type": "code",
   "execution_count": null,
   "id": "70c4e202",
   "metadata": {},
   "outputs": [
    {
     "data": {
      "text/plain": [
       "array(['Bouldnor', 'Freshwater', 'Cranmore', 'School Green',\n",
       "       'Thorley Street', 'Afton', 'Thorley', 'Wellow', 'Dunsbury',\n",
       "       'Hulverstone', 'Norton', 'New Village', 'Shalcombe', 'Middleton',\n",
       "       'Pound Green', 'Hamstead', 'Totland', 'Brook', 'Locksley',\n",
       "       'Brookgreen', 'Colwell', 'Freshwater Bay', 'Norton Green',\n",
       "       'Easton', 'Yarmouth', 'The Orchard', 'Pyle', 'Bonchurch',\n",
       "       'Ventnor', 'Chale', 'Niton', 'Blackgang', 'Nettlecombe',\n",
       "       'Atherfield Green', 'Lowtherville', 'Whitwell', 'St Lawrence',\n",
       "       'Upper Bonchurch', 'Luccombe Village', 'Chale Green', 'Wroxall',\n",
       "       'Bierley', 'Steephill', 'Cowlease', 'Southford', 'Weeks',\n",
       "       'Bowcombe', 'Little Whitehouse', 'Plaish', 'Fairlee', 'Littletown',\n",
       "       'Rew Street', 'Roslin', \"Mark's Corner\", 'Alverstone',\n",
       "       'Porchfield', 'Marsh Green', 'Hunny Hill', 'Wootton Common',\n",
       "       'Gurnard', 'Whiteley Bank', 'Winford', 'Ningwood', 'East Cowes',\n",
       "       'Branstone', 'Northwood', 'Carisbrooke', 'Shorwell', 'Swanmore',\n",
       "       \"Skinner's Hill\", 'Blackwater', 'Alverstone Garden Village',\n",
       "       'Newbridge', 'Camp Hill', 'Shide', 'Pelhamfield', 'Binstead',\n",
       "       'Horringford', 'Pallancegate', 'Newport', 'Upton', 'Fishbourne',\n",
       "       'Roud', 'Bathingbourne', 'Wootton', 'Arreton', 'Adgestone',\n",
       "       'Chillerton', 'Gatcombe', 'Yafford', 'Hillgrove', 'Ashengrove',\n",
       "       'Clatterford', 'Cridmore', 'Winford Cross', 'Old Village',\n",
       "       'Moortown', 'Whippingham', 'Great Thorness', 'Lower Rill',\n",
       "       'Brookside', 'Limerstone', 'Ryde', 'Pan', 'Little Atherfield',\n",
       "       'Downend', 'Knighton', 'Wootton Bridge', 'Thorncross',\n",
       "       'Chilton Green', 'Apse Heath', 'Gunville', 'Lower Hamstead',\n",
       "       'Rookley Green', 'Parkhurst', 'Haylands', 'Merstone', 'Rookley',\n",
       "       'Upper Hyde', 'Rock', 'Mottistone', 'Lower Hyde', 'Newtown',\n",
       "       'Langbridge', 'Oakfield', 'Barton', \"Queen's Bower\",\n",
       "       'Kingston Copse', 'Havenstreet', 'Noke Common', 'Locksgreen',\n",
       "       'Little London', 'Forest Side', 'Newchurch', 'Cowes', 'Shalfleet',\n",
       "       'Brighstone', 'Calbourne', 'Five Houses', 'Woodside', 'Ninham',\n",
       "       'Shanklin', 'Staplers', 'Kingston', 'Ashey', 'Calving Close Copse',\n",
       "       'Hale Common', 'Sandford', 'Godshill', 'Princelett', 'Fernhill',\n",
       "       'Lake', 'Pondwell', 'Elmfield', 'Sandown', 'Hillway', 'Bembridge',\n",
       "       'St Helens', 'Nettlestone', 'Seaview', 'Spring Vale',\n",
       "       \"St John's Park\", 'Yaverland', 'Appley', 'Carpenters', 'Brading',\n",
       "       'Yarbridge', 'Morton'], dtype=object)"
      ]
     },
     "execution_count": 14,
     "metadata": {},
     "output_type": "execute_result"
    }
   ],
   "source": [
    "settlement_names = df[df[\"TYPE\"] == \"populatedPlace\"][\"NAME1\"].unique()\n",
    "settlement_names"
   ]
  },
  {
   "cell_type": "code",
   "execution_count": null,
   "id": "d35cce55",
   "metadata": {},
   "outputs": [
    {
     "data": {
      "text/plain": [
       "[('Afton Road', 'Afton'),\n",
       " ('Alverstone Road', 'Alverstone'),\n",
       " ('Alverstone Road', 'Alverstone Garden Village'),\n",
       " ('Alverstone Shute', 'Alverstone'),\n",
       " ('Alverstone Shute', 'Alverstone Garden Village'),\n",
       " ('Appley Lane', 'Appley'),\n",
       " ('Appley Rise', 'Appley'),\n",
       " ('Appley Road', 'Appley'),\n",
       " ('Appley Steps', 'Appley'),\n",
       " ('Appley Walk', 'Appley')]"
      ]
     },
     "execution_count": 21,
     "metadata": {},
     "output_type": "execute_result"
    }
   ],
   "source": [
    "# Road names related to populated place - quick hack\n",
    "road_names_place_first = []\n",
    "for r in road_names:\n",
    "    road_names_place_first.extend(\n",
    "        [\n",
    "            (r, s)\n",
    "            for s in settlement_names\n",
    "            if s.split()[0] == r.split()[0]\n",
    "            and r.split()[0]\n",
    "            not in [\n",
    "                \"St\",\n",
    "                \"The\",\n",
    "                \"Upper\",\n",
    "                \"Little\",\n",
    "                \"Lower\",\n",
    "                \"Upper\",\n",
    "                \"North\",\n",
    "                \"South\",\n",
    "                \"East\",\n",
    "                \"West\",\n",
    "                \"Old\",\n",
    "            ]\n",
    "        ]\n",
    "    )\n",
    "\n",
    "road_names_place_first = list(set(road_names_place_first))\n",
    "road_names_place_first.sort()\n",
    "road_names_place_first[:10]  # preview first 10"
   ]
  },
  {
   "cell_type": "code",
   "execution_count": 23,
   "id": "5b406132",
   "metadata": {},
   "outputs": [
    {
     "data": {
      "text/plain": [
       "{'Afton': ['Afton Road'],\n",
       " 'Alverstone': ['Alverstone Road', 'Alverstone Shute'],\n",
       " 'Alverstone Garden Village': ['Alverstone Road', 'Alverstone Shute'],\n",
       " 'Appley': ['Appley Lane',\n",
       "  'Appley Rise',\n",
       "  'Appley Road',\n",
       "  'Appley Steps',\n",
       "  'Appley Walk'],\n",
       " 'Apse Heath': ['Apse Manor Road']}"
      ]
     },
     "execution_count": 23,
     "metadata": {},
     "output_type": "execute_result"
    }
   ],
   "source": [
    "import itertools\n",
    "\n",
    "road_names_place_first_dict = {}\n",
    "for road, area in road_names_place_first:\n",
    "    if area not in road_names_place_first_dict:\n",
    "        road_names_place_first_dict[area] = []\n",
    "    road_names_place_first_dict[area].append(road)\n",
    "\n",
    "dict(itertools.islice(road_names_place_first_dict.items(), 5))"
   ]
  },
  {
   "cell_type": "code",
   "execution_count": null,
   "id": "7e19fc35",
   "metadata": {},
   "outputs": [],
   "source": []
  }
 ],
 "metadata": {
  "kernelspec": {
   "display_name": "Python 3",
   "language": "python",
   "name": "python3"
  },
  "language_info": {
   "codemirror_mode": {
    "name": "ipython",
    "version": 3
   },
   "file_extension": ".py",
   "mimetype": "text/x-python",
   "name": "python",
   "nbconvert_exporter": "python",
   "pygments_lexer": "ipython3",
   "version": "3.11.0"
  }
 },
 "nbformat": 4,
 "nbformat_minor": 5
}
